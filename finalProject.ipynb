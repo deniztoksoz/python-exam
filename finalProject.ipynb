{
  "nbformat": 4,
  "nbformat_minor": 0,
  "metadata": {
    "colab": {
      "name": "finalProject.ipynb",
      "provenance": [],
      "collapsed_sections": [],
      "authorship_tag": "ABX9TyN8SJloDpK9EViQBKh3wWU7",
      "include_colab_link": true
    },
    "kernelspec": {
      "name": "python3",
      "display_name": "Python 3"
    },
    "language_info": {
      "name": "python"
    }
  },
  "cells": [
    {
      "cell_type": "markdown",
      "metadata": {
        "id": "view-in-github",
        "colab_type": "text"
      },
      "source": [
        "<a href=\"https://colab.research.google.com/github/deniztoksoz/python-exam/blob/main/finalProject.ipynb\" target=\"_parent\"><img src=\"https://colab.research.google.com/assets/colab-badge.svg\" alt=\"Open In Colab\"/></a>"
      ]
    },
    {
      "cell_type": "code",
      "metadata": {
        "colab": {
          "base_uri": "https://localhost:8080/"
        },
        "id": "a3Bvr9gE6qHH",
        "outputId": "814f653b-f25a-4778-ffd1-25416defe587"
      },
      "source": [
        "import random as rd\n",
        "def soruekle():\n",
        "  while True:\n",
        "    soru=input(\"Soruyu yazınız : \")\n",
        "    cevap=input(\"Cevabı yazınız : \")\n",
        "    if input(\"Bu <%s> sorusuna ait <%s> cevabı ekleyelim mi? (e/h)\" %(soru,cevap)).lower()==\"e\":\n",
        "      sorular.append((soru,cevap))\n",
        "    if input(\"Devam etmek istermisiniz? (e/h)\").lower()!=\"e\":\n",
        "      break\n",
        "\n",
        "def devammi():\n",
        "  c=input(\"Tekrar yarışmak istermisiniz? (e/h) : \")\n",
        "  if c.lower()==\"e\":\n",
        "    return True\n",
        "  else:\n",
        "    print(\"Başka bir yarışmada görüşmek üzere...\")\n",
        "    return False\n",
        "\n",
        "ssayi=2   #sorulacak sayısı belirleme...\n",
        "devam=True  #yarışmacı çıkış yapana kadar devam et..\n",
        "puan=0\n",
        "sorular=[(\"Motorsuz uçağa ne ad verilir?\",\"planör\"),\n",
        " (\"İzmit hangi tatlısıyla meşhurdur?\",\"Pişmaniye\"),\n",
        " (\"Osmanlı medeni kanununna ne ad verilir?\",\"Mecelle\"),\n",
        " (\"İki uca da eşit uzaklıkta olan yere nedir?\",\"orta\"),\n",
        " (\"Orman yangını telefon ihbar hattı numarası nedir?\",\"177\"),\n",
        " (\"Seyatnamenin yazarı kimdir?\",\"Evliya Çelebi\"),\n",
        " (\"Balık tutma aracı, bir ip ya da misinaya bağlanan, ucuna metal bir çengel iğne takarak ırmak, deniz veya göllerde balık tutmaya yarayan aracın adı nedir?\",\"olta\"),\n",
        " (\"Bir olayı anlık olarak kayıt altına sesli ve görüntülü olarak kaydeden cihazlara ne ad verilir?\",\"kamera\"),\n",
        " (\"Mahalle ve sokaklarda güvenliği sağlamak için polisle birlikte görev yapan kişilerin mesleği nedir?\",\"bekçi\"),\n",
        " (\"Şanlıurfa şehir merkezinde yer alır. Hz. İbrahim Peygamberin ateşe atıldığı yer olarak bilinen Gölün halk arasındaki adı nedir?\",\"Balıklı Göl\"),\n",
        " (\"Hava sıcaklığını ölçen, ısının birim derecesine adını veren cihazın adı nedir?\",\"termometre\"),\n",
        " (\"Kağıt ve demir paraları basan matbaaların adı nedir?\",\"Darphane\"),\n",
        " (\"Bir saniye kaç salisedir?\",\"60\"),\n",
        " (\"Çocukların en güzel sokak oyunlarının başında gelir. Bir kişinin gözlerinin bağlanarak diğer oyuncuları yakalamaya çalıştığı oyunun adı nedir?\",\"körebe\")]\n",
        "\n",
        "\n",
        "#yarışmacıyla tanışalım\n",
        "ad=input(\"Yarışmamıza hoş geldiniz. İsminiz nedir? : \")\n",
        "print(\"Merhaba %s, sana toplamda %i soru soracağım. Bu sorulardan en az %i tanesine doğru cevap verirsen yarışmayı kazanmış olacaksın.\" %(ad.upper(),ssayi,ssayi/2))\n",
        "print(\"Eğer istersen yarışmayı kazandığında soru bankamıza sende soru ekleyebilirsin..\")\n",
        "print(\"Soruları cevaplarken özel isimlerin baş harflerini büyük harf yazmaya dikkat et.\")\n",
        "print(\"Başarılar..\")\n",
        "input(\"Devam etmek için bir tuşa bas...\")\n",
        "\n",
        "\n",
        "while devam:\n",
        "  #yarışmacıya sorulacak soruları seçelim..\n",
        "  ysoru=[]\n",
        "  soruid=[]\n",
        "  while (len(soruid)<ssayi):\n",
        "    id=rd.randint(0,len(sorular)-1)\n",
        "    if id in soruid:\n",
        "      continue\n",
        "    else:\n",
        "      soruid.append(id)\n",
        "      ysoru.append(sorular[id])\n",
        "\n",
        "\n",
        "  dogru=0\n",
        "  for i in range(ssayi):\n",
        "    cevap=input(\"%i. Soru < %s >  :\" %(i+1,ysoru[i][0]))\n",
        "    if cevap==ysoru[i][1]:\n",
        "      dogru+=1\n",
        "      puan+=100/ssayi\n",
        "      \n",
        "  if dogru>=ssayi/2:\n",
        "    print(\"Tebrikler.. Yarışmayı toplam %i puanla kazandınız..\" %int(puan))\n",
        "    s=input(\"Yarışmaya yeni soru eklemek istermisiniz? (e/h) : \")\n",
        "    if s.lower()==\"e\":\n",
        "      soruekle()\n",
        "      devam=devammi()      \n",
        "    else:\n",
        "      devam=devammi()  \n",
        "\n",
        "  else:\n",
        "    print(\"Üzgünüm başarısız oldunuz.\")\n",
        "    devam=devammi() \n",
        "  \n",
        "\n"
      ],
      "execution_count": 60,
      "outputs": [
        {
          "output_type": "stream",
          "text": [
            "Yarışmamıza hoş geldiniz. İsminiz nedir? : adsf\n",
            "Merhaba ADSF, sana toplamda 2 soru soracağım. Bu sorulardan en az 1 tanesine doğru cevap verirsen yarışmayı kazanmış olacaksın.\n",
            "Eğer istersen yarışmayı kazandığında soru bankamıza sende soru ekleyebilirsin..\n",
            "Soruları cevaplarken özel isimlerin baş harflerini büyük harf yazmaya dikkat et.\n",
            "Başarılar..\n",
            "Devam etmek için bir tuşa bas...\n",
            "1. Soru < Hava sıcaklığını ölçen, ısının birim derecesine adını veren cihazın adı nedir? >  :termometre\n",
            "2. Soru < Balık tutma aracı, bir ip ya da misinaya bağlanan, ucuna metal bir çengel iğne takarak ırmak, deniz veya göllerde balık tutmaya yarayan aracın adı nedir? >  :olta\n",
            "Tebrikler.. Yarışmayı toplam 100 puanla kazandınız..\n",
            "Yarışmaya yeni soru eklemek istermisiniz? (e/h) : h\n",
            "Tekrar yarışmak istermisiniz? (e/h) : h\n",
            "Başka bir yarışmada görüşmek üzere...\n"
          ],
          "name": "stdout"
        }
      ]
    },
    {
      "cell_type": "code",
      "metadata": {
        "colab": {
          "base_uri": "https://localhost:8080/"
        },
        "id": "4fLbyosT-NoM",
        "outputId": "cfcfff73-68e1-42df-80d3-b98ee98e485c"
      },
      "source": [
        "#Second, Assuming ASCII strings:\n",
        "string1 = 'Hello'\n",
        "string2 = 'hello'\n",
        "\n",
        "if string1 == string2:\n",
        "    print (\"The strings are the same (case insensitive)\")\n",
        "else:\n",
        "    print (\"The strings are not the same (case insensitive)\")"
      ],
      "execution_count": 5,
      "outputs": [
        {
          "output_type": "stream",
          "text": [
            "The strings are not the same (case insensitive)\n"
          ],
          "name": "stdout"
        }
      ]
    }
  ]
}